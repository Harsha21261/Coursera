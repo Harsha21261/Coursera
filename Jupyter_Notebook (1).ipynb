{
 "cells": [
  {
   "cell_type": "markdown",
   "metadata": {},
   "source": [
    "<center>\n",
    "    <img src=\"https://cf-courses-data.s3.us.cloud-object-storage.appdomain.cloud/IBMDeveloperSkillsNetwork-DS0105EN-SkillsNetwork/labs/Module2/images/SN_web_lightmode.png\" width=\"300\" alt=\"cognitiveclass.ai logo\">\n",
    "</center>\n"
   ]
  },
  {
   "cell_type": "markdown",
   "metadata": {},
   "source": [
    "#### Add your code below following the instructions given in the course\n"
   ]
  },
  {
   "cell_type": "markdown",
   "metadata": {},
   "source": [
    "Title\n"
   ]
  },
  {
   "cell_type": "markdown",
   "metadata": {},
   "source": [
    "Introduction"
   ]
  },
  {
   "cell_type": "code",
   "execution_count": 2,
   "metadata": {
    "tags": []
   },
   "outputs": [],
   "source": [
    "##A highly motivated and hardworking individual capable of time management,work under pressure in all environment and contribute my skills and learningorganization and earn experience.\n"
   ]
  },
  {
   "cell_type": "markdown",
   "metadata": {},
   "source": [
    "List of data science languages"
   ]
  },
  {
   "cell_type": "markdown",
   "metadata": {
    "tags": []
   },
   "source": [
    "# Python\n",
    "# R\n",
    "# SQL\n",
    "# Julia\n",
    "# Scala"
   ]
  },
  {
   "cell_type": "markdown",
   "metadata": {
    "tags": []
   },
   "source": [
    "Data science libraries"
   ]
  },
  {
   "cell_type": "markdown",
   "metadata": {
    "tags": []
   },
   "source": [
    "\n",
    "Some of the popular libraries used in data science include:\n",
    "\n",
    "- Pandas\n",
    "- NumPy\n",
    "- Matplotlib\n",
    "- Scikit-learn\n",
    "- TensorFlow\n",
    "- PyTorch\n",
    "- Keras\n",
    "- SciPy\n",
    "- Seaborn\n",
    "- Statsmodels\n"
   ]
  },
  {
   "cell_type": "markdown",
   "metadata": {},
   "source": [
    "## Introduction to Arithmetic Expressions\n",
    "\n",
    "In this section, we will explore various arithmetic expressions and their evaluations. Arithmetic expressions are used to perform basic mathematical operations. Here are some examples:\n",
    "\n",
    "- Addition: \\( a + b \\)\n",
    "- Subtraction: \\( a - b \\)\n",
    "- Multiplication: \\( a \\times b \\)\n",
    "- Division: \\( \\frac{a}{b} \\)\n",
    "- Exponentiation: \\( a^b \\)\n",
    "- Modulus: \\( a \\mod b \\)\n"
   ]
  },
  {
   "cell_type": "markdown",
   "metadata": {},
   "source": [
    "## Data Science Tools\n",
    "\n",
    "| Tool            | Description                                      |\n",
    "|-----------------|--------------------------------------------------|\n",
    "| Jupyter Notebook | Interactive environment for creating and sharing documents containing live code, equations, visualizations, and narrative text. |\n",
    "| Python          | A versatile programming language used for data analysis, machine learning, and more. |\n",
    "| R               | A language and environment for statistical computing and graphics. |\n",
    "| SQL             | A language used for managing and querying relational databases. |\n",
    "| TensorFlow      | An open-source platform for machine learning and deep learning. |\n",
    "| PyTorch         | A deep learning framework that provides a flexible and efficient way to build and train models. |\n",
    "| Tableau         | A data visualization tool used for creating interactive and shareable dashboards. |\n",
    "| Excel           | A spreadsheet application for data manipulation and analysis. |\n",
    "| GitHub          | A platform for version control and collaboration, allowing developers to track and manage changes to their code. |\n"
   ]
  },
  {
   "cell_type": "markdown",
   "metadata": {},
   "source": [
    "Mutiplying and adding integers"
   ]
  },
  {
   "cell_type": "code",
   "execution_count": 8,
   "metadata": {
    "tags": []
   },
   "outputs": [
    {
     "name": "stdout",
     "output_type": "stream",
     "text": [
      "Multiplication Result: 15\n",
      "Addition Result: 8\n"
     ]
    }
   ],
   "source": [
    "# Define the numbers\n",
    "a = 5\n",
    "b = 3\n",
    "# Perform multiplication\n",
    "multiplication_result = a * b\n",
    "# Perform addition\n",
    "addition_result = a + b\n",
    "# Display the results\n",
    "print(\"Multiplication Result:\", multiplication_result)\n",
    "print(\"Addition Result:\", addition_result)"
   ]
  },
  {
   "cell_type": "markdown",
   "metadata": {},
   "source": [
    "code cell that converts minutes to hours"
   ]
  },
  {
   "cell_type": "code",
   "execution_count": 9,
   "metadata": {
    "tags": []
   },
   "outputs": [
    {
     "name": "stdout",
     "output_type": "stream",
     "text": [
      "150 minutes is equal to 2.50 hours\n"
     ]
    }
   ],
   "source": [
    "# Define the number of minutes\n",
    "minutes = 150\n",
    "# Convert minutes to hours\n",
    "hours = minutes / 60\n",
    "# Display the result\n",
    "print(f\"{minutes} minutes is equal to {hours:.2f} hours\")"
   ]
  },
  {
   "cell_type": "markdown",
   "metadata": {},
   "source": [
    "## Objectives\n",
    "\n",
    "The main objectives of this notebook are to:\n",
    "\n",
    "- Understand how to create and format markdown cells.\n",
    "- Learn how to use markdown for creating headings, lists, and tables.\n",
    "- Implement basic arithmetic operations and conversions using code cells.\n",
    "- Practice using markdown and code cells in a Jupyter notebook environment.\n"
   ]
  },
  {
   "cell_type": "markdown",
   "metadata": {},
   "source": [
    "## Author\n",
    "\n",
    "This notebook is created by Harsha vardhan.\n"
   ]
  }
 ],
 "metadata": {
  "kernelspec": {
   "display_name": "Python",
   "language": "python",
   "name": "conda-env-python-py"
  },
  "language_info": {
   "codemirror_mode": {
    "name": "ipython",
    "version": 3
   },
   "file_extension": ".py",
   "mimetype": "text/x-python",
   "name": "python",
   "nbconvert_exporter": "python",
   "pygments_lexer": "ipython3",
   "version": "3.7.12"
  }
 },
 "nbformat": 4,
 "nbformat_minor": 4
}
